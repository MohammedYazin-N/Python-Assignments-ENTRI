{
 "cells": [
  {
   "cell_type": "code",
   "execution_count": 17,
   "id": "dbc28c4f-0975-4ee3-b409-f941fc7c807b",
   "metadata": {},
   "outputs": [
    {
     "name": "stdout",
     "output_type": "stream",
     "text": [
      "SCOPE OF DATA SCEINCE \n",
      "\n",
      "Data Science and Artificial Intelligence (AI) offer a vast and expanding scope, impacting numerous industries and aspects of life. Data Science focuses on analyzing data to extract insights and make predictions, while AI encompasses creating intelligent systems that can learn, reason, and make decisions. The integration of these fields is driving innovation in areas like healthcare, finance, marketing, and even emerging technologies like quantum computing and IoT. \n",
      "\n"
     ]
    }
   ],
   "source": [
    "# 1.Write a Python program to read a file and display its contents \n",
    "\n",
    "with open(\"SCOPE.txt\",\"r\") as fl1:\n",
    "    print (fl1.read())"
   ]
  },
  {
   "cell_type": "code",
   "execution_count": 36,
   "id": "e8d5ac99-d062-4d36-99d7-da55ae58f74d",
   "metadata": {},
   "outputs": [
    {
     "data": {
      "text/plain": [
       "'SCOPE OF DATA SCEINCE \\n\\nData Science and Artificial Intelligence (AI) offer a vast and expanding scope, impacting numerous industries and aspects of life. Data Science focuses on analyzing data to extract insights and make predictions, while AI encompasses creating intelligent systems that can learn, reason, and make decisions. The integration of these fields is driving innovation in areas like healthcare, finance, marketing, and even emerging technologies like quantum computing and IoT. \\n'"
      ]
     },
     "execution_count": 36,
     "metadata": {},
     "output_type": "execute_result"
    }
   ],
   "source": [
    "#2. Write a Python program to copy the contents of one file to another file \n",
    "\n",
    "with open (\"SCOPE.txt\",\"r\")as fl1:\n",
    "    data=fl1.read()\n",
    "\n",
    "with open (\"Destination.txt\",\"w\")as fl2:\n",
    "    fl2.write(data)\n",
    "\n",
    "d = open(\"Destination.txt\",\"r\")\n",
    "d.read()"
   ]
  },
  {
   "cell_type": "code",
   "execution_count": 40,
   "id": "434107e9-a1ce-4a52-bfa8-7a6742a47ec0",
   "metadata": {},
   "outputs": [
    {
     "name": "stdout",
     "output_type": "stream",
     "text": [
      "Total number of words :  71\n"
     ]
    }
   ],
   "source": [
    "#3.Write a Python program to read the content of a file and count the total number of words in that file.\n",
    "\n",
    "with open (\"SCOPE.TXT\",\"r\") as file:\n",
    "    contents=file.read()\n",
    "\n",
    "words=contents.split()\n",
    "\n",
    "Word_count=len(words)\n",
    "\n",
    "\n",
    "print(\"Total number of words : \", Word_count)\n"
   ]
  },
  {
   "cell_type": "code",
   "execution_count": 60,
   "id": "778ad250-3e6a-4d91-8453-677a26230b36",
   "metadata": {},
   "outputs": [
    {
     "name": "stdin",
     "output_type": "stream",
     "text": [
      "Enter Your Number :    100\n"
     ]
    },
    {
     "name": "stdout",
     "output_type": "stream",
     "text": [
      "The Inputed Value Is :  100\n"
     ]
    }
   ],
   "source": [
    "#4.Write a Python program that prompts the user to input a string and converts it to an integer.\n",
    "#Use try-except blocks to handle any exceptions that might occur\n",
    "\n",
    "user_input= input(\"Enter Your Number :   \")\n",
    "\n",
    "try:\n",
    "    def conv2integer():\n",
    "        number = int(user_input)\n",
    "        print(\"The Inputed Value Is : \",number)\n",
    "          \n",
    "except ValueError :\n",
    "        print(\"Inavlid Input , Please Enter a valid Input \")\n",
    "\n",
    "\n",
    "conv2integer()\n"
   ]
  },
  {
   "cell_type": "code",
   "execution_count": 115,
   "id": "438aa6cd-4e72-48b1-909e-ae2e5772a9dc",
   "metadata": {},
   "outputs": [
    {
     "name": "stdin",
     "output_type": "stream",
     "text": [
      "Enter Your List Of Numbers:  10 20 30 \n"
     ]
    },
    {
     "name": "stdout",
     "output_type": "stream",
     "text": [
      "\n",
      " List contains Negative Numbers !\n"
     ]
    }
   ],
   "source": [
    "#5.Write a Python program that prompts the user to input a list of integers and raises an exception if any of the integers in the list are negative. \n",
    "\n",
    "try:\n",
    "    user_input=[]\n",
    "    n=int(input(\"Enter Your List Of Numbers: \"))\n",
    "    for i in range(n):\n",
    "         num = int(input(\"enter the number : \"))\n",
    "         if num <0 :\n",
    "            raise ValueError\n",
    "         else :\n",
    "            user_input.append(num)\n",
    "    print (\"\\n  List contains positive Numbers ! \",user_input)\n",
    "\n",
    "except ValueError:\n",
    "    print(\"\\n List contains Negative Numbers !\")\n",
    "    "
   ]
  },
  {
   "cell_type": "code",
   "execution_count": 119,
   "id": "07482fd5-026a-4fcd-bc4f-2f138d4e8a2f",
   "metadata": {},
   "outputs": [
    {
     "name": "stdin",
     "output_type": "stream",
     "text": [
      "Enter a list of integers:  10 20 30 40 50 \n"
     ]
    },
    {
     "name": "stdout",
     "output_type": "stream",
     "text": [
      "Average of integers in the list :  30.0\n",
      "Program Is Successfull \n"
     ]
    }
   ],
   "source": [
    "#6.  Write a Python program that prompts the user to input a list of integers and computes the average of those integers. \n",
    "#Use try-except blocks to handle any exceptions that might occur.use the finally clause to  print a message indicating that \n",
    "#the program has finished running. \n",
    "\n",
    "try:\n",
    "    user_input= input(\"Enter a list of integers: \")\n",
    "    numbers=[]\n",
    "    for num in user_input.split():\n",
    "        numbers.append(int(num))\n",
    "\n",
    "\n",
    "    if(len(numbers)>0):\n",
    "        avg=sum(numbers) / len (numbers)\n",
    "        print (\"Average of integers in the list : \",avg )\n",
    "\n",
    "except:\n",
    "    print(\"Error Has Been Found \")\n",
    "\n",
    "finally:\n",
    "    print(\"Program Is Successfull \")"
   ]
  },
  {
   "cell_type": "code",
   "execution_count": 143,
   "id": "74408dad-2cce-4db5-9548-5ffdfbd9f008",
   "metadata": {},
   "outputs": [
    {
     "name": "stdin",
     "output_type": "stream",
     "text": [
      "Enter the filename to write to:  yazin.txt\n"
     ]
    },
    {
     "name": "stdout",
     "output_type": "stream",
     "text": [
      " Welcome ! The string has been written to the file successfully.\n"
     ]
    }
   ],
   "source": [
    "#7. Write a Python program that prompts the user to input a filename and writes a string to that file. Use try-except blocks \n",
    "#to handle any exceptions that might occurand .print a welcome message if there is no exception occurred.\n",
    "\n",
    "\n",
    "try:\n",
    "    filename = input(\"Enter the filename to write to: \")\n",
    "    with open(filename, 'w') as file:\n",
    "        file.write(\"It was old cold December night\")\n",
    "\n",
    "    print(\" Welcome ! The string has been written to the file successfully.\")\n",
    "\n",
    "except :\n",
    "    print(\"An error occurred!\")\n"
   ]
  }
 ],
 "metadata": {
  "kernelspec": {
   "display_name": "Python [conda env:base] *",
   "language": "python",
   "name": "conda-base-py"
  },
  "language_info": {
   "codemirror_mode": {
    "name": "ipython",
    "version": 3
   },
   "file_extension": ".py",
   "mimetype": "text/x-python",
   "name": "python",
   "nbconvert_exporter": "python",
   "pygments_lexer": "ipython3",
   "version": "3.12.7"
  }
 },
 "nbformat": 4,
 "nbformat_minor": 5
}
