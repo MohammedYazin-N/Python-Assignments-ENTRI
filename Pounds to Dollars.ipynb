{
 "cells": [
  {
   "cell_type": "code",
   "execution_count": null,
   "id": "4fb1c1a2-146b-47c6-b633-ac1ceb0aa872",
   "metadata": {},
   "outputs": [],
   "source": [
    "## Python Fundamentals- Assignment 1"
   ]
  },
  {
   "cell_type": "code",
   "execution_count": 61,
   "id": "f89ba202-ef30-485d-ac0c-4499eb2ba74e",
   "metadata": {},
   "outputs": [
    {
     "name": "stdin",
     "output_type": "stream",
     "text": [
      "Enter Your Name : yazin zyn\n",
      "enter your number: 562511622\n",
      "enter your email address :   yazinzyn@gmail.com\n"
     ]
    },
    {
     "name": "stdout",
     "output_type": "stream",
     "text": [
      "name: yazin zyn\n",
      "student number : 562511622\n",
      "email_id : yazinzyn@gmail.com\n"
     ]
    }
   ],
   "source": [
    "#Write Python code that prints your name, student number and email address.\n",
    "\n",
    "name= input(\"Enter Your Name :\")\n",
    "student_number = int (input(\"enter your number:\"))\n",
    "email_address=input(\"enter your email address :  \")\n",
    "\n",
    "\n",
    "print(\"name:\",name)\n",
    "print(\"student number :\",student_number)\n",
    "print (\"email_id :\", email_address)"
   ]
  },
  {
   "cell_type": "code",
   "execution_count": 69,
   "id": "1c3b792d-2580-4714-9740-40cae9478be0",
   "metadata": {},
   "outputs": [
    {
     "name": "stdin",
     "output_type": "stream",
     "text": [
      "Enter Your Name : yazin\n",
      "enter your number: 15551184815\n",
      "enter your email address :   yazinzyn@gmail.com\n"
     ]
    },
    {
     "name": "stdout",
     "output_type": "stream",
     "text": [
      "yazin\n",
      "15551184815\n",
      "yazinzyn@gmail.com\n"
     ]
    }
   ],
   "source": [
    "#Write Python code that prints your name, student number and email address using escape sequences.\n",
    "\n",
    "name= input(\"Enter Your Name :\")\n",
    "student_number = int (input(\"enter your number:\"))\n",
    "email_address=input(\"enter your email address :  \")\n",
    "print(name,student_number,email_address,sep=\"\\n\")"
   ]
  },
  {
   "cell_type": "code",
   "execution_count": 89,
   "id": "0411462e-99a1-48f3-9467-d10067366095",
   "metadata": {},
   "outputs": [
    {
     "name": "stdout",
     "output_type": "stream",
     "text": [
      "14+7= 21\n",
      "14-7= 7\n",
      "14*7= 98\n",
      "14/7= 2.0\n"
     ]
    }
   ],
   "source": [
    "#Write Python code that add, subtract, multiply and divide the two numbers.\n",
    "\n",
    "n1=14\n",
    "n2=7\n",
    "\n",
    "add=n1+n2\n",
    "sub=n1-n2\n",
    "multi=n1*n2\n",
    "div=n1/n2\n",
    "\n",
    "print (\"14+7=\",add) \n",
    "print (\"14-7=\",sub) \n",
    "print (\"14*7=\",multi)\n",
    "print (\"14/7=\",div) "
   ]
  },
  {
   "cell_type": "code",
   "execution_count": 97,
   "id": "52b74d0b-a81a-41d6-9172-14ea23c15d0a",
   "metadata": {},
   "outputs": [
    {
     "name": "stdout",
     "output_type": "stream",
     "text": [
      "\n",
      "          1\n",
      "            2\n",
      "              3\n",
      "                4\n",
      "                  5\n",
      "\n"
     ]
    }
   ],
   "source": [
    "#Write Python code that displays the numbers from 1 to 5 as steps.\n",
    "\n",
    "print (\"\"\"\n",
    "          1\n",
    "            2\n",
    "              3\n",
    "                4\n",
    "                  5\n",
    "\"\"\")"
   ]
  },
  {
   "cell_type": "code",
   "execution_count": 111,
   "id": "342386df-20e1-4c64-aa68-205cb03a4b05",
   "metadata": {},
   "outputs": [
    {
     "name": "stdout",
     "output_type": "stream",
     "text": [
      " \"SDK\" stands for \"Software Development Kit\", whereas \n",
      " \"IDE\" stands for \"Integrated Development Environment\".\n"
     ]
    }
   ],
   "source": [
    "#Write Python code that outputs the following sentence (including the quotation marks and line break) to the screen: \n",
    "#An example runs of the program: \"SDK\" stands for \"Software Development Kit\", whereas \"IDE\" stands for \"Integrated Development Environment\".\n",
    "\n",
    "print(' \"SDK\" stands for \"Software Development Kit\", whereas \\n \"IDE\" stands for \"Integrated Development Environment\".') \n"
   ]
  },
  {
   "cell_type": "code",
   "execution_count": 121,
   "id": "546087e8-88ee-4975-ad85-83dffc20aac4",
   "metadata": {},
   "outputs": [
    {
     "name": "stdout",
     "output_type": "stream",
     "text": [
      "python is an \"awesome\" language.\n",
      "python\n",
      "\t2023\n",
      "I'm from Entri\n",
      "5\n",
      "e\n",
      "Entri\n",
      "2023\n",
      "Entr2023\n",
      "Entri*20"
     ]
    }
   ],
   "source": [
    "#Practice and check the output\n",
    "\n",
    "print(\"python is an \\\"awesome\\\" language.\")\n",
    "print(\"python\\n\\t2023\")\n",
    "print('I\\'m from Entri.\\b')\n",
    "print(\"\\65\")\n",
    "print(\"\\x65\")\n",
    "print(\"Entri\", \"2023\", sep=\"\\n\")\n",
    "print(\"Entri\", \"2023\", sep=\"\\b\")\n",
    "print(\"Entri\", \"2023\", sep=\"*\", end=\"\\b\\b\\b\\b\")\n"
   ]
  },
  {
   "cell_type": "code",
   "execution_count": 21,
   "id": "0f46c581-5899-4cca-b50a-8057016afbcc",
   "metadata": {},
   "outputs": [
    {
     "name": "stdout",
     "output_type": "stream",
     "text": [
      "type of num= <class 'int'>\n",
      "type of textnum= <class 'str'>\n",
      "type of decimal= <class 'float'>\n",
      "178.3\n",
      "type of sum= <class 'float'>\n"
     ]
    }
   ],
   "source": [
    "#Define the variables below. Print the types of each variable. What is the sum of your variables? \n",
    "#(Hint: use a type conversion function.) What datatype is the sum? \n",
    "\n",
    "num=23\n",
    "textnum=\"57\"\n",
    "decimal=98.3 \n",
    "\n",
    "print(\"type of num=\",type(num))\n",
    "print(\"type of textnum=\",type(textnum))\n",
    "print(\"type of decimal=\",type(decimal))\n",
    "\n",
    "\n",
    "sum=num+int(textnum)+decimal\n",
    "print(sum)\n",
    "\n",
    "print(\"type of sum=\",type(sum))"
   ]
  },
  {
   "cell_type": "code",
   "execution_count": 53,
   "id": "e3859a93-edec-485e-8814-1b557e0f7613",
   "metadata": {},
   "outputs": [
    {
     "name": "stdout",
     "output_type": "stream",
     "text": [
      "total number of min per year=  525600\n"
     ]
    }
   ],
   "source": [
    "## calculate the number of minutes in a year using variables for each unit of time.\n",
    "##print a statement that describes what your code does also.\n",
    "##Create three variables to store no of days in a year, minute in a hour, hours in a day, then calculate the total minutes in a year and \n",
    "##print the values(hint) total number of minutes in an year =No.of days in an year * Hours in a day * Minutes in an hour\n",
    "\n",
    "days=365\n",
    "minutes=60\n",
    "hours=24\n",
    "\n",
    "total_number_of_minutes_in_an_year = days*hours*minutes\n",
    "print(\"total number of min per year= \",total_number_of_minutes_in_an_year)"
   ]
  },
  {
   "cell_type": "code",
   "execution_count": 61,
   "id": "331b9453-7862-4555-ab32-5ce76c30515a",
   "metadata": {},
   "outputs": [
    {
     "name": "stdin",
     "output_type": "stream",
     "text": [
      "Enter your Name:      tony\n"
     ]
    },
    {
     "name": "stdout",
     "output_type": "stream",
     "text": [
      "Hi tony , Welcome to python programming :)\n"
     ]
    }
   ],
   "source": [
    "#Write Python code that asks the user to enter his/her name and then output/prints his/her name with a greeting. An example runs of the program: \n",
    "#Please enter you name: Tony Hi Tony, welcome to Python programming :) \n",
    "\n",
    "name=input(\"Enter your Name:     \")\n",
    "print(\"Hi\",name,\",\",\"Welcome to python programming :)\")\n"
   ]
  },
  {
   "cell_type": "code",
   "execution_count": null,
   "id": "e362271c-98ae-4524-93f2-dacb214424ef",
   "metadata": {},
   "outputs": [],
   "source": [
    "#Name your file: PoundsToDollars.py Write a program that asks the user to enter an amount in pounds (£) and the program \n",
    "#calculates and converts an amount in dollar ($) An example runs of the program: Please enter amount in pounds: XXX £ XXX are $ XXX"
   ]
  },
  {
   "cell_type": "code",
   "execution_count": 63,
   "id": "213d2f9b-3847-4872-92eb-9a635e2b26b2",
   "metadata": {},
   "outputs": [
    {
     "name": "stdin",
     "output_type": "stream",
     "text": [
      "enter your amount in pounds(£):     10\n"
     ]
    },
    {
     "name": "stdout",
     "output_type": "stream",
     "text": [
      "£ 10.0 are $ 55.0\n"
     ]
    }
   ],
   "source": [
    "pounds=float(input(\"enter your amount in pounds(£):    \"))\n",
    "money_rate=5.50\n",
    "\n",
    "dollar = pounds*money_rate\n",
    "\n",
    "print (\"£\",pounds,\"are\",\"$\",dollar)"
   ]
  }
 ],
 "metadata": {
  "kernelspec": {
   "display_name": "Python [conda env:base] *",
   "language": "python",
   "name": "conda-base-py"
  },
  "language_info": {
   "codemirror_mode": {
    "name": "ipython",
    "version": 3
   },
   "file_extension": ".py",
   "mimetype": "text/x-python",
   "name": "python",
   "nbconvert_exporter": "python",
   "pygments_lexer": "ipython3",
   "version": "3.12.7"
  }
 },
 "nbformat": 4,
 "nbformat_minor": 5
}
