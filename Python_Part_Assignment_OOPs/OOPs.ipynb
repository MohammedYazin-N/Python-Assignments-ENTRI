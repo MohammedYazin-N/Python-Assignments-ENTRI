{
 "cells": [
  {
   "cell_type": "code",
   "execution_count": 1,
   "id": "db0bf499-af1e-4e60-aa47-e79610614f39",
   "metadata": {},
   "outputs": [
    {
     "name": "stdout",
     "output_type": "stream",
     "text": [
      "CS101 : Introduction to computer science, Core_course : True, 3 Credit hours\n",
      "CS101 : Introduction to computer science, Elective_course : Data Analytics, 3 Credit hours\n"
     ]
    }
   ],
   "source": [
    "# Question 1: (5 Marks)\n",
    "# Build a program to manage a university's course catalog. You want to define a base class Course that has the following properties:\n",
    "# course_code: a string representing the course code (e.g., \"CS101\")\n",
    "# course_name: a string representing the course name (e.g., \"Introduction to Computer Science\")\n",
    "# credit_hours: an integer representing the credit hours for the course (e.g., 3)\n",
    "# You also want to define two subclasses CoreCourse and ElectiveCourse, which inherit from the Course class.\n",
    "# CoreCourse should have an additional property required_for_major which is a boolean representing whether the course is required for a particular major.\n",
    "# ElectiveCourse should have an additional property elective_type which is a string representing the type of elective \n",
    "# (e.g., \"general\", \"technical\", \"liberal arts\").\n",
    "\n",
    "class Course:\n",
    "    def __init__(self,c_code,c_name,c_credit):\n",
    "        self.course_code = c_code\n",
    "        self.course_name = c_name\n",
    "        self.course_credit = c_credit\n",
    "\n",
    "    def print_details(self):\n",
    "            print(f\"{self.course_code} : {self.course_name}, {self.course_credit} Credit hours\")\n",
    "\n",
    "\n",
    "class CoreCourse(Course):\n",
    "    def __init__(self,c_code,c_name,c_credit,major):\n",
    "        self.course_code = c_code\n",
    "        self.course_name = c_name\n",
    "        self.course_credit = c_credit\n",
    "        self.required_for_major = major\n",
    "\n",
    "    def print_details(self):\n",
    "        print(f\"{self.course_code} : {self.course_name}, Core_course : {self.required_for_major}, {self.course_credit} Credit hours\")\n",
    "\n",
    "\n",
    "class ElectiveCourse(Course):\n",
    "    def __init__(self,c_code,c_name,c_credit,elective_type):\n",
    "        self.course_code = c_code\n",
    "        self.course_name = c_name\n",
    "        self.course_credit = c_credit\n",
    "        self.elective_type = elective_type\n",
    "\n",
    "    def print_details(self):\n",
    "        print(f\"{self.course_code} : {self.course_name}, Elective_course : {self.elective_type}, {self.course_credit} Credit hours\")\n",
    "\n",
    "\n",
    "\n",
    "core = CoreCourse('CS101','Introduction to computer science',3,True)\n",
    "core.print_details()\n",
    "\n",
    "elective = ElectiveCourse('CS101','Introduction to computer science',3,'Data Analytics')\n",
    "elective.print_details()\n",
    "\n"
   ]
  },
  {
   "cell_type": "code",
   "execution_count": 1,
   "id": "1e99f0f1-d467-4cbd-b6d4-360d7709e3aa",
   "metadata": {},
   "outputs": [
    {
     "name": "stdout",
     "output_type": "stream",
     "text": [
      "Employee name is: Aravind\n",
      "Employee salary is: 55000\n"
     ]
    }
   ],
   "source": [
    "# Create a Python module named employee that contains a class Employee with attributes name, salary and methods get_name() and get_salary(). \n",
    "# Write a program to use this module to create an object of the Employee class and display its name and salary.from EMPLOYEE import Employee\n",
    "\n",
    "emp = Employee(\"Aravind\", 55000)\n",
    "print(\"Employee name is:\", emp.get_name())\n",
    "print(\"Employee salary is:\", emp.get_salary())\n"
   ]
  },
  {
   "cell_type": "code",
   "execution_count": null,
   "id": "07fb8f29-45d1-4eb0-94be-e8c85d6ee91a",
   "metadata": {},
   "outputs": [],
   "source": []
  }
 ],
 "metadata": {
  "kernelspec": {
   "display_name": "Python [conda env:base] *",
   "language": "python",
   "name": "conda-base-py"
  },
  "language_info": {
   "codemirror_mode": {
    "name": "ipython",
    "version": 3
   },
   "file_extension": ".py",
   "mimetype": "text/x-python",
   "name": "python",
   "nbconvert_exporter": "python",
   "pygments_lexer": "ipython3",
   "version": "3.12.7"
  }
 },
 "nbformat": 4,
 "nbformat_minor": 5
}
