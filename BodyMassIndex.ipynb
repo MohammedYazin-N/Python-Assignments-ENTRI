{
 "cells": [
  {
   "cell_type": "code",
   "execution_count": 33,
   "id": "b661ac23-8f89-4006-aee8-06991f826622",
   "metadata": {},
   "outputs": [
    {
     "name": "stdin",
     "output_type": "stream",
     "text": [
      "Enter your number (1-12):      10\n"
     ]
    },
    {
     "name": "stdout",
     "output_type": "stream",
     "text": [
      "The coresponding month is : October\n"
     ]
    }
   ],
   "source": [
    "# Write a program that reads an integer value between 1 and 12 from the user and prints output the corresponding month of the year.\n",
    "\n",
    "M=(\"January\",\"February\",\"March\",\"April\",\"May\",\"June\",\"July\",\"August\",\"September\",\"October\",\"November\",\"December\")\n",
    "\n",
    "month_name=int(input(\"Enter your number (1-12):     \"))\n",
    "\n",
    "if 1<=month_name<=12:\n",
    "    print(\"The coresponding month is :\",M[month_name-1],)\n",
    "else:\n",
    "        print(\"Your number is invalid :)\")\n",
    "\n",
    "\n",
    "\n",
    "\n",
    "\n"
   ]
  },
  {
   "cell_type": "code",
   "execution_count": 109,
   "id": "065ee707-67e1-4376-9da9-9c50d9641e8f",
   "metadata": {},
   "outputs": [
    {
     "name": "stdin",
     "output_type": "stream",
     "text": [
      "Enter your Age: 55\n"
     ]
    },
    {
     "name": "stdout",
     "output_type": "stream",
     "text": [
      "Your ticket costs:£6.00\n"
     ]
    }
   ],
   "source": [
    "## A certain cinema currently sells tickets for a full price of 6 pounds, but always sells tickets for half price to people who are less than 16 years old,\n",
    "## and for a third of the price for people who are 60 years old or more.\n",
    "\n",
    "full_price= 6.00\n",
    "\n",
    "n=int(input(\"Enter your Age:\"))\n",
    "\n",
    "if n<16:\n",
    "   price=full_price/2\n",
    "\n",
    "elif n>=60:\n",
    "    price=full_price/3\n",
    "\n",
    "else:\n",
    "    price=full_price\n",
    "    \n",
    "print(f\"Your ticket costs:£{price:.2f}\")\n",
    "    "
   ]
  },
  {
   "cell_type": "code",
   "execution_count": 147,
   "id": "a54296b4-83f4-4f62-ae2e-ebd26870f852",
   "metadata": {},
   "outputs": [
    {
     "name": "stdin",
     "output_type": "stream",
     "text": [
      "Enter your weight in (kg): 75\n",
      "Enter your height in (m): 1.70\n"
     ]
    },
    {
     "name": "stdout",
     "output_type": "stream",
     "text": [
      "Your BMI is: 25.95\n",
      "You are in the “overweight” range.\n"
     ]
    }
   ],
   "source": [
    "# Write a program to calculate your BMI and give weight status. Body Mass Index (BMI) is an internationally used measurement to check \n",
    "##if you are a healthy weight for your height.The metric BMI formula accepts weight in kilograms and height in meters:\n",
    "##BMI range = kg/m2  \n",
    "\n",
    "n1=float(input(\"Enter your weight in (kg):\"))\n",
    "n2=float(input(\"Enter your height in (m):\"))\n",
    "\n",
    "BMI_range =n1/(n2**2)\n",
    "print(\"Your BMI is:\",f\"{BMI_range:.2f}\")\n",
    "\n",
    "if BMI_range<18.5:\n",
    "    print(f\"You are in the “underweight” range.\")\n",
    "\n",
    "elif BMI_range>=18.5 and BMI_range<=24.9:\n",
    "    print(f\"You are in the “normal” range.\")\n",
    "\n",
    "elif BMI_range>=25 and BMI_range<=29.9:\n",
    "      print(f\"You are in the “overweight” range.\")\n",
    "    \n",
    "else:\n",
    "      print(f\"You are in the “obese” range.\")\n",
    "    "
   ]
  },
  {
   "cell_type": "code",
   "execution_count": 163,
   "id": "f40f3385-fced-4538-b592-f9a64171fbc7",
   "metadata": {},
   "outputs": [
    {
     "name": "stdin",
     "output_type": "stream",
     "text": [
      "Enter your number 1: 55.63\n",
      "Enter your number 2: 36.89\n",
      "Enter your number 3: 36.558\n"
     ]
    },
    {
     "name": "stdout",
     "output_type": "stream",
     "text": [
      "The greatest number is:55.63\n"
     ]
    }
   ],
   "source": [
    "### Write a Python program to receive 3 numbers from the user and print the greatest among them.\n",
    "\n",
    "n1=float(input(\"Enter your number 1:\"))\n",
    "n2=float(input(\"Enter your number 2:\"))\n",
    "n3=float(input(\"Enter your number 3:\"))\n",
    "\n",
    "g_no= max(n1,n2,n3)\n",
    "\n",
    "print(f\"The greatest number is:{g_no:.2f}\") \n"
   ]
  },
  {
   "cell_type": "code",
   "execution_count": 211,
   "id": "0e97c370-5de9-44c0-9d68-ad5d2f178e61",
   "metadata": {},
   "outputs": [
    {
     "name": "stdin",
     "output_type": "stream",
     "text": [
      "enter your table_no :  5\n"
     ]
    },
    {
     "name": "stdout",
     "output_type": "stream",
     "text": [
      " the factorial of 5 is 120\n"
     ]
    }
   ],
   "source": [
    "## Find the factorial of a given number using loops(note the number is received from the user)\n",
    "\n",
    "n= int(input(\"enter your table_no : \"))\n",
    "\n",
    "fact=1\n",
    "\n",
    "if n < 0:\n",
    "    print(\"Factorial is not defined for negative numbers.\")\n",
    "elif n == 0:\n",
    "    print(\"The factorial of 0 is 1.\")\n",
    "else:\n",
    "    for i in range(1, n + 1):\n",
    "        fact=fact*i\n",
    "    \n",
    "print(f\" the factorial of {n} is {fact}\")"
   ]
  },
  {
   "cell_type": "code",
   "execution_count": 27,
   "id": "618007f8-5ce7-4c4f-bdab-00b662159ff9",
   "metadata": {},
   "outputs": [
    {
     "name": "stdin",
     "output_type": "stream",
     "text": [
      "Enter your number :  12345\n"
     ]
    },
    {
     "name": "stdout",
     "output_type": "stream",
     "text": [
      "Reversed number of 12345 is 54321\n"
     ]
    }
   ],
   "source": [
    "##Reverse a number using while loop\n",
    "\n",
    "n=int(input(\"Enter your number : \"))\n",
    "num=n\n",
    "\n",
    "rev_num=0\n",
    "\n",
    "while n>0:\n",
    "    digit=n%10\n",
    "    rev_num=(rev_num*10) + digit\n",
    "    n=n//10\n",
    "    \n",
    "print(f\"Reversed number of {num} is {rev_num}\")\n"
   ]
  },
  {
   "cell_type": "code",
   "execution_count": 1,
   "id": "e501e8dc-c28e-454e-adad-f63d6836285d",
   "metadata": {},
   "outputs": [
    {
     "name": "stdin",
     "output_type": "stream",
     "text": [
      "enter your number:  4\n"
     ]
    },
    {
     "name": "stdout",
     "output_type": "stream",
     "text": [
      "4 x 1 = 4\n",
      "4 x 2 = 8\n",
      "4 x 3 = 12\n",
      "4 x 4 = 16\n",
      "4 x 5 = 20\n",
      "4 x 6 = 24\n",
      "4 x 7 = 28\n",
      "4 x 8 = 32\n",
      "4 x 9 = 36\n",
      "4 x 10 = 40\n"
     ]
    }
   ],
   "source": [
    "### Finding the multiples of a number using loop\n",
    "\n",
    "\n",
    "n=int(input(\"enter your number: \"))\n",
    "\n",
    "for i in range(1,11):\n",
    "    print(f\"{n} x {i} = {n*i}\") "
   ]
  },
  {
   "cell_type": "code",
   "execution_count": 18,
   "id": "5301a9de-7591-40d9-9af7-546afe09a8fa",
   "metadata": {},
   "outputs": [
    {
     "name": "stdin",
     "output_type": "stream",
     "text": [
      "Enter your value:  hello,there\n"
     ]
    },
    {
     "name": "stdout",
     "output_type": "stream",
     "text": [
      "You have entered: hello,there\n"
     ]
    },
    {
     "name": "stdin",
     "output_type": "stream",
     "text": [
      "Enter your value:  finished\n"
     ]
    },
    {
     "name": "stdout",
     "output_type": "stream",
     "text": [
      "You have entered: finished\n"
     ]
    },
    {
     "name": "stdin",
     "output_type": "stream",
     "text": [
      "Enter your value:  done\n"
     ]
    },
    {
     "name": "stdout",
     "output_type": "stream",
     "text": [
      "Done\n"
     ]
    }
   ],
   "source": [
    "## Write a program to print the inputed value as it is and break the loop if the value is 'done'.\n",
    "\n",
    "while True:\n",
    "    value = input(\"Enter your value: \") \n",
    "    \n",
    "    if value.lower() == \"done\":  \n",
    "        print(\"Done\")  \n",
    "        break  \n",
    "    \n",
    "    print(\"You have entered:\", value)  \n"
   ]
  },
  {
   "cell_type": "code",
   "execution_count": 42,
   "id": "36ee9e87-d236-4470-ab3d-c2033cd62e78",
   "metadata": {},
   "outputs": [
    {
     "name": "stdout",
     "output_type": "stream",
     "text": [
      "1\n",
      "2\n",
      "Fizz\n",
      "4\n",
      "Buzz\n",
      "Fizz\n",
      "7\n",
      "8\n",
      "Fizz\n",
      "Buzz\n",
      "11\n",
      "Fizz\n",
      "13\n",
      "14\n",
      "FizzBuzz\n",
      "16\n",
      "17\n",
      "Fizz\n",
      "19\n"
     ]
    }
   ],
   "source": [
    "## Write a program that prints the numbers from 1 to 10. But for multiples of three print \"Fizz\" instead of the number and for the \n",
    "## multiple of five print \"Buzz\". For numbers which are multiples of both three and five print \"FizzBuzz\"\n",
    "\n",
    "for i in range (1,20) :\n",
    "    if  i%3==0 and i%5==0:\n",
    "        print(\"FizzBuzz\")\n",
    "    elif i%5==0 :\n",
    "        print(\"Buzz\")\n",
    "    elif i%3==0:\n",
    "        print (\"Fizz\")\n",
    "    else:\n",
    "        print (i)\n",
    "        \n"
   ]
  },
  {
   "cell_type": "code",
   "execution_count": 17,
   "id": "02354482-246c-4971-8c38-ea6408a6e713",
   "metadata": {},
   "outputs": [
    {
     "name": "stdout",
     "output_type": "stream",
     "text": [
      "5 4 3 2 1 \n",
      "\n",
      "4 3 2 1 \n",
      "\n",
      "3 2 1 \n",
      "\n",
      "2 1 \n",
      "\n",
      "1 \n",
      "\n"
     ]
    }
   ],
   "source": [
    "## Write a program to print the following pattern:\n",
    "\n",
    "# 5 4 3 2 1\n",
    "# 4 3 2 1\n",
    "# 3 2 1\n",
    "# 2 1\n",
    "# 1\n",
    "\n",
    "n=5\n",
    "for i in range(n,0,-1):\n",
    "    for j in range(i,0,-1):\n",
    "        print(j,end=\" \")\n",
    "    print('\\n')"
   ]
  }
 ],
 "metadata": {
  "kernelspec": {
   "display_name": "Python [conda env:base] *",
   "language": "python",
   "name": "conda-base-py"
  },
  "language_info": {
   "codemirror_mode": {
    "name": "ipython",
    "version": 3
   },
   "file_extension": ".py",
   "mimetype": "text/x-python",
   "name": "python",
   "nbconvert_exporter": "python",
   "pygments_lexer": "ipython3",
   "version": "3.12.7"
  }
 },
 "nbformat": 4,
 "nbformat_minor": 5
}
