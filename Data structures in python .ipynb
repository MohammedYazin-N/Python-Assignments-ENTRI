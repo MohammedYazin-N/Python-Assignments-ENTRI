{
 "cells": [
  {
   "cell_type": "markdown",
   "id": "10b37838-2f1f-4c9e-a699-b60a986e528f",
   "metadata": {},
   "source": [
    "# Topic :List\n",
    "### Exercise\n"
   ]
  },
  {
   "cell_type": "code",
   "execution_count": 224,
   "id": "932f033b-e30e-4737-9500-f9b82faec1db",
   "metadata": {},
   "outputs": [
    {
     "name": "stdout",
     "output_type": "stream",
     "text": [
      "list: [2, 3, 4, 5, 8]\n"
     ]
    }
   ],
   "source": [
    "## Q1. Create a list of 5 random numbers and print the list.\n",
    "\n",
    "\n",
    "l1=[2,3,4,5,8]\n",
    "\n",
    "print(\"list:\",l1)"
   ]
  },
  {
   "cell_type": "code",
   "execution_count": 226,
   "id": "d691156a-5a69-43cd-8281-20644dea5e71",
   "metadata": {},
   "outputs": [
    {
     "name": "stdout",
     "output_type": "stream",
     "text": [
      "updated list using extend: [2, 3, 4, 5, 8, 'D47', 55, 96]\n"
     ]
    }
   ],
   "source": [
    "## Q2. Insert 3 new values to the list and print the updated list.\n",
    "\n",
    "l1.extend([\"D47\",55,96])\n",
    "print(\"updated list using extend:\",l1)\n",
    "\n"
   ]
  },
  {
   "cell_type": "code",
   "execution_count": 222,
   "id": "01cc4d70-54c2-42c0-b30b-e9f2a7460829",
   "metadata": {},
   "outputs": [
    {
     "name": "stdout",
     "output_type": "stream",
     "text": [
      "2\n",
      "3\n",
      "4\n",
      "5\n",
      "8\n",
      "D47\n",
      "55\n",
      "96\n"
     ]
    }
   ],
   "source": [
    "## Try to use a for loop to print each element in the list.\n",
    "\n",
    "\n",
    "for i in range(len(l1)):\n",
    "    print(l1[i])"
   ]
  },
  {
   "cell_type": "markdown",
   "id": "5b727b0f-3a4a-452f-8528-05fd89fe7e53",
   "metadata": {},
   "source": [
    "# Topic: Dictionary\n",
    "## Exercise \n"
   ]
  },
  {
   "cell_type": "code",
   "execution_count": 198,
   "id": "de7b5b56-7aa4-476c-aeb3-3e530582e4af",
   "metadata": {},
   "outputs": [
    {
     "name": "stdout",
     "output_type": "stream",
     "text": [
      "Dictionary: {'name': 'john', 'age': 25, 'address': 'newyork'}\n"
     ]
    }
   ],
   "source": [
    "## Q1. Create a dictionary with keys 'name', 'age', and 'address' and values 'John', 25, and 'New York' respectively.\n",
    "\n",
    "d1={\"name\":\"john\",\"age\":25,\"address\":\"newyork\"}\n",
    "print(\"Dictionary:\",d1)\n"
   ]
  },
  {
   "cell_type": "code",
   "execution_count": 200,
   "id": "220e31e9-6ed0-4c88-ac69-6576cbc6a506",
   "metadata": {},
   "outputs": [
    {
     "name": "stdout",
     "output_type": "stream",
     "text": [
      "updated dictionary: {'name': 'john', 'age': 25, 'address': 'newyork', 'phone': '1234567890'}\n"
     ]
    }
   ],
   "source": [
    "## Q2. Add a new key-value pair to the dictionary created in Q1 with key 'phone' and value '1234567890'\n",
    "\n",
    "d1[\"phone\"]='1234567890'\n",
    "\n",
    "print(\"updated dictionary:\",d1)"
   ]
  },
  {
   "cell_type": "markdown",
   "id": "4faa906e-dc7a-4470-95e3-81b3748a2c62",
   "metadata": {},
   "source": [
    "# Topic: Set\n",
    "## Exercise \n"
   ]
  },
  {
   "cell_type": "code",
   "execution_count": 206,
   "id": "ef1fbc16-2375-4744-acf4-af68bafaf62a",
   "metadata": {},
   "outputs": [
    {
     "name": "stdout",
     "output_type": "stream",
     "text": [
      "SET : {1, 2, 3, 4, 5}\n"
     ]
    }
   ],
   "source": [
    "## Q1.Create a set with values 1, 2, 3, 4, and 5.\n",
    "\n",
    "st1={1,2,3,4,5}\n",
    "print (\"SET :\",st1)\n"
   ]
  },
  {
   "cell_type": "code",
   "execution_count": 212,
   "id": "23d5caab-69a4-4bca-8490-10ab4c7e97ea",
   "metadata": {},
   "outputs": [
    {
     "name": "stdout",
     "output_type": "stream",
     "text": [
      "updated set by adding : {1, 2, 3, 4, 5, 6}\n"
     ]
    }
   ],
   "source": [
    "## Q2 Add the value 6 to the set created in Q1.\n",
    "\n",
    "\n",
    "st1.add(6) \n",
    "print (\"updated set by adding :\",st1)"
   ]
  },
  {
   "cell_type": "code",
   "execution_count": 216,
   "id": "7d355360-a04c-4310-83f5-824d3b9f9bf2",
   "metadata": {},
   "outputs": [
    {
     "name": "stdout",
     "output_type": "stream",
     "text": [
      "updated set by removing : {1, 2, 4, 5, 6}\n"
     ]
    }
   ],
   "source": [
    "## Q3. Remove the value 3 from the set created in Q1.\n",
    "\n",
    "\n",
    "st1.remove(3)\n",
    "print (\"updated set by removing :\",st1)\n",
    "\n",
    "\n"
   ]
  },
  {
   "cell_type": "markdown",
   "id": "e14bb8f8-3937-4150-a28d-0b5470e336de",
   "metadata": {},
   "source": [
    "# Topic:Tuple\n",
    "### Exercise \n"
   ]
  },
  {
   "cell_type": "code",
   "execution_count": 218,
   "id": "8f021dc7-e53d-4bd5-9125-a2ef2a5022c7",
   "metadata": {},
   "outputs": [
    {
     "name": "stdout",
     "output_type": "stream",
     "text": [
      "tuple : (1, 2, 3, 4)\n"
     ]
    }
   ],
   "source": [
    "## Q1. Create a tuple with values 1, 2, 3, and 4\n",
    "\n",
    "t1=(1,2,3,4)\n",
    "print(\"tuple :\",t1)"
   ]
  },
  {
   "cell_type": "code",
   "execution_count": 230,
   "id": "f238d91a-f21a-4453-899d-3e9b7b3e7e55",
   "metadata": {},
   "outputs": [
    {
     "name": "stdout",
     "output_type": "stream",
     "text": [
      "length of tuple: 4\n"
     ]
    }
   ],
   "source": [
    "## Q2. Print the length of the tuple created in Q1.\n",
    "\n",
    "len(t1)\n",
    "\n",
    "print(\"length of tuple:\",len(t1))\n"
   ]
  },
  {
   "cell_type": "code",
   "execution_count": null,
   "id": "5a0540eb-0753-4098-bbcb-a79584c6d329",
   "metadata": {},
   "outputs": [],
   "source": []
  }
 ],
 "metadata": {
  "kernelspec": {
   "display_name": "Python [conda env:base] *",
   "language": "python",
   "name": "conda-base-py"
  },
  "language_info": {
   "codemirror_mode": {
    "name": "ipython",
    "version": 3
   },
   "file_extension": ".py",
   "mimetype": "text/x-python",
   "name": "python",
   "nbconvert_exporter": "python",
   "pygments_lexer": "ipython3",
   "version": "3.12.7"
  }
 },
 "nbformat": 4,
 "nbformat_minor": 5
}
