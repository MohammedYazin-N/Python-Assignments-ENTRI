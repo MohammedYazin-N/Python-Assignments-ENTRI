{
 "cells": [
  {
   "cell_type": "code",
   "execution_count": 11,
   "id": "0573ee69-2d70-4024-ae95-283e893ab7f1",
   "metadata": {},
   "outputs": [
    {
     "name": "stdout",
     "output_type": "stream",
     "text": [
      "[2, 3, 4, 5, 'hello', 'yazin_here']\n"
     ]
    },
    {
     "data": {
      "text/plain": [
       "6"
      ]
     },
     "execution_count": 11,
     "metadata": {},
     "output_type": "execute_result"
    }
   ],
   "source": [
    "# 1.What does the len() function do in Python? Write a code example using len() to find the length of a list.\n",
    "\n",
    "# ans: len() function when executed displayes the total number of observations present in a particular list\n",
    "\n",
    "l1=[2,3,4,5,\"hello\",\"yazin_here\"]\n",
    "\n",
    "print (l1)\n",
    "len(l1) \n",
    "\n"
   ]
  },
  {
   "cell_type": "code",
   "execution_count": 7,
   "id": "2017abdf-ea7e-4312-a9bf-d32f95056141",
   "metadata": {},
   "outputs": [
    {
     "name": "stdout",
     "output_type": "stream",
     "text": [
      "Hello,Shameem !\n"
     ]
    }
   ],
   "source": [
    "## Write a Python function greet(name) that takes a person's name as input and prints \"Hello, [name]!\".\n",
    "\n",
    "def greet(name):\n",
    "    print(\"Hello\"+\",\"+name+\" !\")\n",
    "\n",
    "greet(\"Shameem\")\n",
    " "
   ]
  },
  {
   "cell_type": "code",
   "execution_count": 72,
   "id": "81e0c4ad-d159-4993-a9e7-b014b24505b2",
   "metadata": {
    "scrolled": true
   },
   "outputs": [],
   "source": [
    "## Write a Python function find_maximum(numbers) that takes a list of integers and returns the maximum value without using the built-in max() function. \n",
    "##Use a loop to iterate through the list and compare values.\n",
    "\n",
    "def find_maximum(numbers):    \n",
    "    max_value=numbers[0]\n",
    "    \n",
    "    for num in numbers[1: ]:\n",
    "        if num>max_value:\n",
    "            max_value=num\n",
    "            \n",
    "    return max_value"
   ]
  },
  {
   "cell_type": "code",
   "execution_count": 76,
   "id": "091e182e-f19e-4a24-b695-1b4aa71e9bc8",
   "metadata": {},
   "outputs": [
    {
     "data": {
      "text/plain": [
       "788"
      ]
     },
     "execution_count": 76,
     "metadata": {},
     "output_type": "execute_result"
    }
   ],
   "source": [
    "numbers=[58,68,336,89,45,788]\n",
    "\n",
    "find_maximum(numbers)"
   ]
  },
  {
   "cell_type": "code",
   "execution_count": 110,
   "id": "b2c85aa1-818c-4768-9881-d1311ad017e9",
   "metadata": {},
   "outputs": [
    {
     "name": "stdout",
     "output_type": "stream",
     "text": [
      "local variable,n=  50\n",
      "Global variable,n=  100\n"
     ]
    }
   ],
   "source": [
    "## Explain the difference between local and global variables in a Python function.\n",
    "#Write a program where a global variable and a local variable have the same name and show how Python differentiates between them.\n",
    "\n",
    "##Local Variable - It is the variable which is associated inside or accesssible only within the function .\n",
    "##Global Variable -It is the variable which is seen outside a function or accessible and runned throughout the program \n",
    "\n",
    "##example\n",
    "\n",
    "n=100\n",
    "\n",
    "def sample_fun():\n",
    "    n=50\n",
    "    print(\"local variable,n= \",n)\n",
    "    \n",
    "sample_fun()\n",
    "print(\"Global variable,n= \",n)\n"
   ]
  },
  {
   "cell_type": "code",
   "execution_count": 101,
   "id": "a17f9c9c-9312-466d-84c7-f5e9ea5b7f98",
   "metadata": {},
   "outputs": [
    {
     "name": "stdout",
     "output_type": "stream",
     "text": [
      "25\n",
      "10\n"
     ]
    }
   ],
   "source": [
    "## Create a function calculate_area(length, width=5) that calculates the area of a rectangle.\n",
    "##If only the length is provided, the function should assume the width is 5. \n",
    "### Show how the function behaves when called with and without the width argument.\n",
    "\n",
    "def calculated_area(length, width=5):\n",
    "    return(length*width)\n",
    "\n",
    "print(calculated_area(5))\n",
    "print(calculated_area(5,2))\n"
   ]
  },
  {
   "cell_type": "code",
   "execution_count": null,
   "id": "fa2e7c8c-a5b1-4a3d-aba5-2b80b7bbd816",
   "metadata": {},
   "outputs": [],
   "source": []
  },
  {
   "cell_type": "code",
   "execution_count": null,
   "id": "77a63fba-7e62-4ecb-80e4-54330191f4d8",
   "metadata": {},
   "outputs": [],
   "source": []
  },
  {
   "cell_type": "code",
   "execution_count": null,
   "id": "8c2e678e-fc81-4d9d-adf9-441c94510798",
   "metadata": {},
   "outputs": [],
   "source": []
  },
  {
   "cell_type": "code",
   "execution_count": null,
   "id": "87f622ab-4a8a-4131-8634-2fd4ace6391a",
   "metadata": {},
   "outputs": [],
   "source": []
  }
 ],
 "metadata": {
  "kernelspec": {
   "display_name": "Python [conda env:base] *",
   "language": "python",
   "name": "conda-base-py"
  },
  "language_info": {
   "codemirror_mode": {
    "name": "ipython",
    "version": 3
   },
   "file_extension": ".py",
   "mimetype": "text/x-python",
   "name": "python",
   "nbconvert_exporter": "python",
   "pygments_lexer": "ipython3",
   "version": "3.12.7"
  }
 },
 "nbformat": 4,
 "nbformat_minor": 5
}
